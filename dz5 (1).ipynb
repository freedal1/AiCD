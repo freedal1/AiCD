{
 "cells": [
  {
   "cell_type": "code",
   "execution_count": 9,
   "id": "a23ea4ca",
   "metadata": {},
   "outputs": [
    {
     "data": {
      "text/plain": [
       "[1, 3, 3, 2, 1, 3]"
      ]
     },
     "execution_count": 9,
     "metadata": {},
     "output_type": "execute_result"
    }
   ],
   "source": [
    "# 4.13\n",
    "l1 = ['1', '123', '123', '12', '1', '123']\n",
    "l2 = [len(i) for i in l1]\n",
    "l2"
   ]
  },
  {
   "cell_type": "code",
   "execution_count": 10,
   "id": "c36d8ad0",
   "metadata": {},
   "outputs": [
    {
     "data": {
      "text/plain": [
       "3"
      ]
     },
     "execution_count": 10,
     "metadata": {},
     "output_type": "execute_result"
    }
   ],
   "source": [
    "# 4.14\n",
    "l1 = ['1', '123', '123', '12', '1', '123']\n",
    "cnt = sum(1 for i in l1 if len(i) > 2)\n",
    "cnt"
   ]
  },
  {
   "cell_type": "code",
   "execution_count": 13,
   "id": "cc0cb205",
   "metadata": {},
   "outputs": [
    {
     "data": {
      "text/plain": [
       "910"
      ]
     },
     "execution_count": 13,
     "metadata": {},
     "output_type": "execute_result"
    }
   ],
   "source": [
    "# 4.15\n",
    "d4 = {1: 10, 2: 20, 3: 30, 4: 40, 5: 50, 6: 60}\n",
    "result = sum(k*v for k, v in d4.items())\n",
    "result"
   ]
  },
  {
   "cell_type": "code",
   "execution_count": 14,
   "id": "8f674df0",
   "metadata": {},
   "outputs": [
    {
     "ename": "SyntaxError",
     "evalue": "invalid syntax (1852747203.py, line 3)",
     "output_type": "error",
     "traceback": [
      "\u001b[1;36m  Cell \u001b[1;32mIn[14], line 3\u001b[1;36m\u001b[0m\n\u001b[1;33m    d7 = k: v for k, v in d6.items() if k not in d5\u001b[0m\n\u001b[1;37m          ^\u001b[0m\n\u001b[1;31mSyntaxError\u001b[0m\u001b[1;31m:\u001b[0m invalid syntax\n"
     ]
    }
   ],
   "source": [
    "# 4.16\n",
    "d6 = {'e': 20, 'f': 21, 'g': 22, 'h': 23, 'i': 24, 'j': 25, 'k': 26, 'l': 27}\n",
    "d5 = {'a': 3, 'b': 4, 'c': 5, 'd': 6, 'e': 7, 'f': 8, 'g': 9}\n",
    "d7 = k: v for k, v in d6.items() if k not in d5\n",
    "    d7\n",
    "    "
   ]
  },
  {
   "cell_type": "code",
   "execution_count": 15,
   "id": "5e378e68",
   "metadata": {},
   "outputs": [
    {
     "name": "stdout",
     "output_type": "stream",
     "text": [
      "[0, 4, -4, -9, 0, 55, 18, -7]\n"
     ]
    }
   ],
   "source": [
    "# 4.17\n",
    "l2 = [2, 4, -2, -3, 0, 11, 3, -1]\n",
    "result = [num * idx if type(num) == int else num for idx, num in enumerate(l2)]\n",
    "print(result)"
   ]
  },
  {
   "cell_type": "code",
   "execution_count": 18,
   "id": "2e854a03",
   "metadata": {},
   "outputs": [
    {
     "name": "stdout",
     "output_type": "stream",
     "text": [
      "[2, 4, 0, 11, 3]\n"
     ]
    }
   ],
   "source": [
    "# 4.18\n",
    "l2 = [2, 4, -2, -3, 0 , 11 , 3, -1] \n",
    "lst = [x for x in l2 if x >= 0]\n",
    "print(lst)"
   ]
  },
  {
   "cell_type": "code",
   "execution_count": 19,
   "id": "d47fb539",
   "metadata": {},
   "outputs": [
    {
     "name": "stdout",
     "output_type": "stream",
     "text": [
      "[2, 4, 2, 3, 0, 11, 3, 7]\n"
     ]
    }
   ],
   "source": [
    "# 4.19\n",
    "l2 = [2, 4, -2, -3, 0 , 11 , 3, -1] \n",
    "result = [num if num >= 0 else idx for idx, num in enumerate(l2)]\n",
    "print(result)"
   ]
  },
  {
   "cell_type": "code",
   "execution_count": 20,
   "id": "66e29678",
   "metadata": {},
   "outputs": [
    {
     "name": "stdout",
     "output_type": "stream",
     "text": [
      "15\n",
      "10.0\n"
     ]
    }
   ],
   "source": [
    "# 5.1\n",
    "def multiply_numbers(num1, num2):\n",
    "    \"\"\"\n",
    "    Функция умножения двух чисел.\n",
    "\n",
    "    Args:\n",
    "    num1 (int, float): Первое число для умножения.\n",
    "    num2 (int, float): Второе число для умножения.\n",
    "\n",
    "    Returns:\n",
    "    int, float: Результат умножения двух чисел.\n",
    "\n",
    "    Функция принимает два числа и возвращает их произведение.\n",
    "    \"\"\"\n",
    "\n",
    "    return num1 * num2\n",
    "\n",
    "# Примеры использования функции\n",
    "result1 = multiply_numbers(5, 3)\n",
    "print(result1)  # Выведет: 15\n",
    "\n",
    "result2 = multiply_numbers(2.5, 4)\n",
    "print(result2)  # Выведет: 10.0"
   ]
  },
  {
   "cell_type": "code",
   "execution_count": 21,
   "id": "13645b54",
   "metadata": {},
   "outputs": [
    {
     "name": "stdout",
     "output_type": "stream",
     "text": [
      "5\n",
      "6\n",
      "12.0\n"
     ]
    }
   ],
   "source": [
    "# 5.2\n",
    "def multiply_numbers(*args):\n",
    "    \"\"\"\n",
    "    Функция умножения от одного до трех чисел.\n",
    "\n",
    "    Args:\n",
    "    *args (int, float): Числа для умножения (от 1 до 3 чисел).\n",
    "\n",
    "    Returns:\n",
    "    int, float: Результат умножения чисел.\n",
    "\n",
    "    Функция принимает от 1 до 3 чисел и возвращает их произведение.\n",
    "    \"\"\"\n",
    "\n",
    "    result = 1\n",
    "    for num in args:\n",
    "        result *= num\n",
    "    return result\n",
    "\n",
    "# Примеры использования функции с разным количеством параметров\n",
    "result1 = multiply_numbers(5)\n",
    "print(result1)  # Выведет: 5\n",
    "\n",
    "result2 = multiply_numbers(2, 3)\n",
    "print(result2)  # Выведет: 6\n",
    "\n",
    "result3 = multiply_numbers(4, 2, 1.5)\n",
    "print(result3)  # Выведет: 12.0\n"
   ]
  },
  {
   "cell_type": "code",
   "execution_count": 32,
   "id": "2bbaf67c",
   "metadata": {},
   "outputs": [
    {
     "name": "stdout",
     "output_type": "stream",
     "text": [
      "750\n",
      "3\n",
      "3850\n",
      "750\n",
      "3000\n"
     ]
    }
   ],
   "source": [
    "# 5.3\n",
    "def multiply_numbers(*args):\n",
    "    \"\"\"\n",
    "    Функция умножения от одного до трех чисел.\n",
    "\n",
    "    Args:\n",
    "    *args (int, float): Числа для умножения (от 1 до 3 чисел).\n",
    "\n",
    "    Returns:\n",
    "    int, float: Результат умножения чисел.\n",
    "\n",
    "    Функция принимает от 1 до 3 чисел и возвращает их произведение.\n",
    "    \"\"\"\n",
    "    if len(args) > 3:\n",
    "        return \"Функция принимает от одного до трех параметров\"\n",
    "    result = 1\n",
    "    \n",
    "    for num in args:\n",
    "        result *= num\n",
    "    return result\n",
    "\n",
    "# Примеры использования функции с разным количеством параметров\n",
    "result1 = multiply_numbers(15,10,5)\n",
    "print(result1)  \n",
    "\n",
    "result2 = multiply_numbers(3, 1)\n",
    "print(result2)  \n",
    "\n",
    "result3 = multiply_numbers(2, 35, 55)\n",
    "print(result3)  \n",
    "\n",
    "result4 = multiply_numbers(5, 10 ,15)\n",
    "print(result4)\n",
    "\n",
    "result5 = multiply_numbers(20, 10 ,15)\n",
    "print(result5)"
   ]
  },
  {
   "cell_type": "code",
   "execution_count": 31,
   "id": "4455ef56",
   "metadata": {},
   "outputs": [
    {
     "name": "stdout",
     "output_type": "stream",
     "text": [
      "750\n",
      "3\n",
      "3850\n",
      "750\n",
      "3000\n"
     ]
    }
   ],
   "source": [
    "# 5.4\n",
    "def multiply_numbers(*args):\n",
    "    \"\"\"\n",
    "    Функция умножения от одного до трех чисел.\n",
    "\n",
    "    Args:\n",
    "    *args (int, float): Числа для умножения (от 1 до 3 чисел).\n",
    "\n",
    "    Returns:\n",
    "    int, float: Результат умножения чисел.\n",
    "\n",
    "    Функция принимает от 1 до 3 чисел и возвращает их произведение.\n",
    "    \"\"\"\n",
    "    result = 1\n",
    "    \n",
    "    for num in args:\n",
    "        result *= num\n",
    "    return result\n",
    "\n",
    "# Примеры использования функции с разным количеством параметров\n",
    "result1 = multiply_numbers(15,10,5)\n",
    "print(result1)  \n",
    "\n",
    "result2 = multiply_numbers(3, 1)\n",
    "print(result2)  \n",
    "\n",
    "result3 = multiply_numbers(2, 35, 55)\n",
    "print(result3)  \n",
    "\n",
    "result4 = multiply_numbers(5, 10 ,15)\n",
    "print(result4)\n",
    "\n",
    "result5 = multiply_numbers(20, 10 ,15)\n",
    "print(result5)"
   ]
  },
  {
   "cell_type": "code",
   "execution_count": 33,
   "id": "895b287b",
   "metadata": {},
   "outputs": [
    {
     "name": "stdout",
     "output_type": "stream",
     "text": [
      "Выберите операцию (+, -, *, /): +\n",
      "Введите первое целое число: 5\n",
      "Введите второе целое число: 6\n",
      "Результат выполнения операции: 11\n"
     ]
    }
   ],
   "source": [
    "# 5.5\n",
    "def add(x, y):\n",
    "    return x + y\n",
    "\n",
    "def subtract(x, y):\n",
    "    return x - y\n",
    "\n",
    "def multiply(x, y):\n",
    "    return x * y\n",
    "\n",
    "def divide(x, y):\n",
    "    if y != 0:\n",
    "        return x / y\n",
    "    else:\n",
    "        return \"Деление на ноль невозможно\"\n",
    "\n",
    "# Запросить у пользователя выбор арифметической операции\n",
    "operation = input(\"Выберите операцию (+, -, *, /): \")\n",
    "\n",
    "# Запросить у пользователя два целых числа\n",
    "num1 = int(input(\"Введите первое целое число: \"))\n",
    "num2 = int(input(\"Введите второе целое число: \"))\n",
    "\n",
    "# Выполнить выбранную операцию\n",
    "if operation == '+':\n",
    "    result = add(num1, num2)\n",
    "elif operation == '-':\n",
    "    result = subtract(num1, num2)\n",
    "elif operation == '*':\n",
    "    result = multiply(num1, num2)\n",
    "elif operation == '/':\n",
    "    result = divide(num1, num2)\n",
    "else:\n",
    "    result = \"Некорректная операция\"\n",
    "\n",
    "print(f\"Результат выполнения операции: {result}\")\n"
   ]
  },
  {
   "cell_type": "code",
   "execution_count": 34,
   "id": "2e763b03",
   "metadata": {},
   "outputs": [
    {
     "name": "stdout",
     "output_type": "stream",
     "text": [
      "Результат: 8\n"
     ]
    }
   ],
   "source": [
    "# 5.6\n",
    "def calc(expression):\n",
    "    # Разделить строку на число, операцию и число\n",
    "    parts = expression.split()\n",
    "    num1 = int(parts[0])\n",
    "    operator = parts[1]\n",
    "    num2 = int(parts[2])\n",
    "\n",
    "    # Выполнить операцию в зависимости от символа оператора\n",
    "    if operator == '+':\n",
    "        return num1 + num2\n",
    "    elif operator == '-':\n",
    "        return num1 - num2\n",
    "    elif operator == '*':\n",
    "        return num1 * num2\n",
    "    elif operator == '/':\n",
    "        if num2 != 0:\n",
    "            return num1 // num2\n",
    "        else:\n",
    "            return \"Деление на ноль невозможно\"\n",
    "    elif operator == '%':\n",
    "        if num2 != 0:\n",
    "            return num1 % num2\n",
    "        else:\n",
    "            return \"Деление на ноль невозможно\"\n",
    "    elif operator == '^':\n",
    "        return num1 ** num2\n",
    "    else:\n",
    "        return \"Некорректная операция\"\n",
    "\n",
    "# Пример использования функции\n",
    "result = calc('13 - 5')\n",
    "print(f\"Результат: {result}\")\n"
   ]
  },
  {
   "cell_type": "code",
   "execution_count": 35,
   "id": "e14f2df7",
   "metadata": {},
   "outputs": [
    {
     "name": "stdout",
     "output_type": "stream",
     "text": [
      "Автомобиль марки: BMW, модели: X5, цвета: белый, 2006 года выпуска, с пробегом: 215 000 км, c номерным знаком: X012АМ77, цена: 1 115 000 руб.\n",
      "Автомобиль марки: Audi, модели: A4, цвета: неизвестно, 2012 года выпуска, с пробегом: 120 000 км, c номерным знаком: неизвестно, цена: 800 000 руб.\n"
     ]
    }
   ],
   "source": [
    "# 5.7\n",
    "def print_car_info(**kwargs):\n",
    "    car_info = {\n",
    "        'марка': 'неизвестно',\n",
    "        'модель': 'неизвестно',\n",
    "        'цвет': 'неизвестно',\n",
    "        'год выпуска': 'неизвестно',\n",
    "        'пробег': 'неизвестно',\n",
    "        'номерной знак': 'неизвестно',\n",
    "        'цена': 'неизвестно'\n",
    "    }\n",
    "    \n",
    "    car_info.update(kwargs)\n",
    "    \n",
    "    message = f\"Автомобиль марки: {car_info['марка']}, модели: {car_info['модель']}, цвета: {car_info['цвет']}, \" \\\n",
    "              f\"{car_info['год выпуска']} года выпуска, с пробегом: {car_info['пробег']} км, \" \\\n",
    "              f\"c номерным знаком: {car_info['номерной знак']}, цена: {car_info['цена']} руб.\"\n",
    "    \n",
    "    print(message)\n",
    "\n",
    "# Пример использования функции для словаря c1\n",
    "c1 = {\n",
    "    'марка': 'BMW',\n",
    "    'модель': 'X5',\n",
    "    'цвет': 'белый',\n",
    "    'год выпуска': 2006,\n",
    "    'пробег': '215 000',\n",
    "    'номерной знак': 'X012АМ77',\n",
    "    'цена': '1 115 000'\n",
    "}\n",
    "\n",
    "print_car_info(**c1)\n",
    "\n",
    "# Пример использования функции для словаря c2\n",
    "c2 = {\n",
    "    'марка': 'Audi',\n",
    "    'модель': 'A4',\n",
    "    'год выпуска': 2012,\n",
    "    'пробег': '120 000',\n",
    "    'цена': '800 000'\n",
    "}\n",
    "\n",
    "print_car_info(**c2)\n"
   ]
  },
  {
   "cell_type": "code",
   "execution_count": 36,
   "id": "f4d9af2a",
   "metadata": {},
   "outputs": [
    {
     "name": "stdout",
     "output_type": "stream",
     "text": [
      "пятнадцать\n",
      "сорок два\n"
     ]
    }
   ],
   "source": [
    "# 5.8\n",
    "def to_text(number):\n",
    "    units = ['ноль', 'один', 'два', 'три', 'четыре', 'пять', 'шесть', 'семь', 'восемь', 'девять']\n",
    "    teens = ['десять', 'одиннадцать', 'двенадцать', 'тринадцать', 'четырнадцать', 'пятнадцать', 'шестнадцать',\n",
    "             'семнадцать', 'восемнадцать', 'девятнадцать']\n",
    "    tens = ['', '', 'двадцать', 'тридцать', 'сорок', 'пятьдесят', 'шестьдесят', 'семьдесят', 'восемьдесят', 'девяносто']\n",
    "\n",
    "    if number < 10:\n",
    "        return units[number]\n",
    "    elif number < 20:\n",
    "        return teens[number - 10]\n",
    "    else:\n",
    "        return f\"{tens[number // 10]} {units[number % 10]}\"\n",
    "\n",
    "# Пример использования функции\n",
    "print(to_text(15))  # Пятнадцать\n",
    "print(to_text(42))  # Сорок два\n"
   ]
  },
  {
   "cell_type": "code",
   "execution_count": 37,
   "id": "bf8cb0ed",
   "metadata": {},
   "outputs": [
    {
     "name": "stdout",
     "output_type": "stream",
     "text": [
      "33\n"
     ]
    }
   ],
   "source": [
    "# 5.9\n",
    "def to_int(text):\n",
    "    numbers = {\n",
    "        'ноль': 0, 'один': 1, 'два': 2, 'три': 3, 'четыре': 4, 'пять': 5, 'шесть': 6,\n",
    "        'семь': 7, 'восемь': 8, 'девять': 9, 'десять': 10, 'одиннадцать': 11, 'двенадцать': 12,\n",
    "        'тринадцать': 13, 'четырнадцать': 14, 'пятнадцать': 15, 'шестнадцать': 16,\n",
    "        'семнадцать': 17, 'восемнадцать': 18, 'девятнадцать': 19, 'двадцать': 20,\n",
    "        'тридцать': 30, 'сорок': 40, 'пятьдесят': 50, 'шестьдесят': 60,\n",
    "        'семьдесят': 70, 'восемьдесят': 80, 'девяносто': 90, 'сто': 100,\n",
    "        'двести': 200, 'триста': 300, 'четыреста': 400, 'пятьсот': 500,\n",
    "        'шестьсот': 600, 'семьсот': 700, 'восемьсот': 800, 'девятьсот': 900\n",
    "    }\n",
    "    \n",
    "    words = text.split()\n",
    "    result = 0\n",
    "    temp = 0\n",
    "    \n",
    "    for word in words:\n",
    "        if word in numbers:\n",
    "            temp += numbers[word]\n",
    "        else:\n",
    "            result += temp\n",
    "            temp = numbers[word]\n",
    "    \n",
    "    result += temp\n",
    "    \n",
    "    return result\n",
    "\n",
    "# Пример использования\n",
    "print(to_int('тридцать три'))  # Выведет: 33\n"
   ]
  },
  {
   "cell_type": "code",
   "execution_count": 38,
   "id": "f7fb6214",
   "metadata": {},
   "outputs": [
    {
     "ename": "KeyError",
     "evalue": "'плюс'",
     "output_type": "error",
     "traceback": [
      "\u001b[1;31m---------------------------------------------------------------------------\u001b[0m",
      "\u001b[1;31mKeyError\u001b[0m                                  Traceback (most recent call last)",
      "Cell \u001b[1;32mIn[38], line 62\u001b[0m\n\u001b[0;32m     59\u001b[0m     \u001b[38;5;28;01mreturn\u001b[39;00m to_text(result)\n\u001b[0;32m     61\u001b[0m \u001b[38;5;66;03m# Пример использования\u001b[39;00m\n\u001b[1;32m---> 62\u001b[0m \u001b[38;5;28mprint\u001b[39m(calc(\u001b[38;5;124m'\u001b[39m\u001b[38;5;124mдвадцать пять плюс тринадцать\u001b[39m\u001b[38;5;124m'\u001b[39m))\n",
      "Cell \u001b[1;32mIn[38], line 55\u001b[0m, in \u001b[0;36mcalc\u001b[1;34m(expression)\u001b[0m\n\u001b[0;32m     52\u001b[0m parts \u001b[38;5;241m=\u001b[39m expression\u001b[38;5;241m.\u001b[39msplit()\n\u001b[0;32m     54\u001b[0m num1 \u001b[38;5;241m=\u001b[39m to_int(parts[\u001b[38;5;241m0\u001b[39m])\n\u001b[1;32m---> 55\u001b[0m num2 \u001b[38;5;241m=\u001b[39m to_int(parts[\u001b[38;5;241m2\u001b[39m])\n\u001b[0;32m     57\u001b[0m result \u001b[38;5;241m=\u001b[39m operations[parts[\u001b[38;5;241m1\u001b[39m]](num1, num2)\n\u001b[0;32m     59\u001b[0m \u001b[38;5;28;01mreturn\u001b[39;00m to_text(result)\n",
      "Cell \u001b[1;32mIn[38], line 21\u001b[0m, in \u001b[0;36mto_int\u001b[1;34m(text)\u001b[0m\n\u001b[0;32m     19\u001b[0m     \u001b[38;5;28;01melse\u001b[39;00m:\n\u001b[0;32m     20\u001b[0m         result \u001b[38;5;241m+\u001b[39m\u001b[38;5;241m=\u001b[39m temp\n\u001b[1;32m---> 21\u001b[0m         temp \u001b[38;5;241m=\u001b[39m numbers[word]\n\u001b[0;32m     23\u001b[0m result \u001b[38;5;241m+\u001b[39m\u001b[38;5;241m=\u001b[39m temp\n\u001b[0;32m     25\u001b[0m \u001b[38;5;28;01mreturn\u001b[39;00m result\n",
      "\u001b[1;31mKeyError\u001b[0m: 'плюс'"
     ]
    }
   ],
   "source": [
    "# 6.1\n",
    "def to_int(text):\n",
    "    numbers = {\n",
    "        'ноль': 0, 'один': 1, 'два': 2, 'три': 3, 'четыре': 4, 'пять': 5, 'шесть': 6,\n",
    "        'семь': 7, 'восемь': 8, 'девять': 9, 'десять': 10, 'одиннадцать': 11, 'двенадцать': 12,\n",
    "        'тринадцать': 13, 'четырнадцать': 14, 'пятнадцать': 15, 'шестнадцать': 16,\n",
    "        'семнадцать': 17, 'восемнадцать': 18, 'девятнадцать': 19, 'двадцать': 20,\n",
    "        'тридцать': 30, 'сорок': 40, 'пятьдесят': 50, 'шестьдесят': 60,\n",
    "        'семьдесят': 70, 'восемьдесят': 80, 'девяносто': 90\n",
    "    }\n",
    "    \n",
    "    words = text.split()\n",
    "    result = 0\n",
    "    temp = 0\n",
    "    \n",
    "    for word in words:\n",
    "        if word in numbers:\n",
    "            temp += numbers[word]\n",
    "        else:\n",
    "            result += temp\n",
    "            temp = numbers[word]\n",
    "    \n",
    "    result += temp\n",
    "    \n",
    "    return result\n",
    "\n",
    "def to_text(num):\n",
    "    numbers = {\n",
    "        0: 'ноль', 1: 'один', 2: 'два', 3: 'три', 4: 'четыре', 5: 'пять', 6: 'шесть',\n",
    "        7: 'семь', 8: 'восемь', 9: 'девять', 10: 'десять', 11: 'одиннадцать', 12: 'двенадцать',\n",
    "        13: 'тринадцать', 14: 'четырнадцать', 15: 'пятнадцать', 16: 'шестнадцать',\n",
    "        17: 'семнадцать', 18: 'восемнадцать', 19: 'девятнадцать', 20: 'двадцать',\n",
    "        30: 'тридцать', 40: 'сорок', 50: 'пятьдесят', 60: 'шестьдесят',\n",
    "        70: 'семьдесят', 80: 'восемьдесят', 90: 'девяносто'\n",
    "    }\n",
    "    \n",
    "    if num in numbers:\n",
    "        return numbers[num]\n",
    "    \n",
    "    tens = (num // 10) * 10\n",
    "    ones = num % 10\n",
    "    \n",
    "    return numbers[tens] + \" \" + numbers[ones]\n",
    "\n",
    "def calc(expression):\n",
    "    operations = {\n",
    "        \"плюс\": lambda x, y: x + y,\n",
    "        \"минус\": lambda x, y: x - y,\n",
    "        \"умножить\": lambda x, y: x * y\n",
    "    }\n",
    "    \n",
    "    parts = expression.split()\n",
    "    \n",
    "    num1 = to_int(parts[0])\n",
    "    num2 = to_int(parts[2])\n",
    "    \n",
    "    result = operations[parts[1]](num1, num2)\n",
    "    \n",
    "    return to_text(result)\n",
    "\n",
    "# Пример использования\n",
    "print(calc('двадцать пять плюс тринадцать')) # Выведет: \"тридцать восемь\"\n"
   ]
  },
  {
   "cell_type": "code",
   "execution_count": null,
   "id": "92e601e3",
   "metadata": {},
   "outputs": [],
   "source": []
  }
 ],
 "metadata": {
  "kernelspec": {
   "display_name": "Python 3 (ipykernel)",
   "language": "python",
   "name": "python3"
  },
  "language_info": {
   "codemirror_mode": {
    "name": "ipython",
    "version": 3
   },
   "file_extension": ".py",
   "mimetype": "text/x-python",
   "name": "python",
   "nbconvert_exporter": "python",
   "pygments_lexer": "ipython3",
   "version": "3.11.5"
  }
 },
 "nbformat": 4,
 "nbformat_minor": 5
}
