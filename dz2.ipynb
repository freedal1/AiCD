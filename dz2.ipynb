{
 "cells": [
  {
   "cell_type": "code",
   "execution_count": 1,
   "id": "10a0f724",
   "metadata": {},
   "outputs": [],
   "source": [
    "# 1\n",
    "import csv\n",
    "\n",
    "def analiz_number(file_name, n=100):\n",
    "    word_number = 0 #создаем словарь для записи данных\n",
    "    with open(file_name, 'r', encoding='utf-8') as file: #открываем файл для чтение\n",
    "        for row in file:\n",
    "            words = row.lower ().split () #в отдельный список сохраняем все слова\n",
    "            for word in words:\n",
    "                if word in '.,I?;:/-\"':\n",
    "                    continue\n",
    "                if word in word_number:  #работаем с счетчиком, либо просто создаем новый ключ\n",
    "                    word_number [word] += 1 \n",
    "                else:\n",
    "                    word_number [word] = 1\n",
    "    sorted_word_number = sorted(word_number.items(), key=lambda item: item[1], reverses=True)\n",
    "    if isinstance (n, int): #проверяем п является числом или строкой\n",
    "        for key, value in sorted_word_number[:n]:\n",
    "            print(key,\";\", value) #выбод при условии что было Введено число\n",
    "    else: # если же n является строкой или float, то открываем файл назапись и добавляем туда\n",
    "        with open(n, 'w', encoding='utf-8') as csv_file:\n",
    "            csv_file.write(\"Слово, частота\\n\")\n",
    "            for key, value in sorted_word_number:\n",
    "                csv_file.write(f\" (key), (value)\\n\")\n",
    "        print(f\"Статистика сохранена в файл {n}\")"
   ]
  },
  {
   "cell_type": "code",
   "execution_count": 3,
   "id": "bd379012",
   "metadata": {},
   "outputs": [],
   "source": [
    "# 2\n",
    "import sys\n",
    "def summ(num):\n",
    "\n",
    "    s = 0.0\n",
    "    for n in num:\n",
    "        try:\n",
    "            s += float(n)\n",
    "        except:\n",
    "            print('в ввели не только числа')\n",
    "            return\n",
    "    return s\n",
    "\n",
    "def mult(num):\n",
    "    m = 1\n",
    "    for n in num:\n",
    "        try:\n",
    "            m *= float(n)\n",
    "        except:\n",
    "            print('в ввели не только числа')\n",
    "            return\n",
    "    return m"
   ]
  },
  {
   "cell_type": "code",
   "execution_count": 26,
   "id": "ecdc4a6b",
   "metadata": {},
   "outputs": [
    {
     "name": "stdout",
     "output_type": "stream",
     "text": [
      "2\n",
      "2.0\n"
     ]
    }
   ],
   "source": [
    "try:\n",
    "    stroka = list(map(float, input().split()))\n",
    "except:\n",
    "    print(\"incorrect input\")\n",
    "def multiplier(s):\n",
    "    p=1\n",
    "    for i in range(len(s)):\n",
    "        p*=s[i]\n",
    "    return p\n",
    "print(multiplier(stroka))"
   ]
  },
  {
   "cell_type": "code",
   "execution_count": 27,
   "id": "d27e4e14",
   "metadata": {},
   "outputs": [
    {
     "name": "stdout",
     "output_type": "stream",
     "text": [
      "действие: 5+2\n",
      "слагаемые: 4\n",
      "None\n"
     ]
    }
   ],
   "source": [
    "# 3\n",
    "def operation(par, slag):\n",
    "    if par == 'sum' or par == 'mul':\n",
    "        if par == 'sum':\n",
    "            return summa(slag)\n",
    "        else:\n",
    "            return multiply(slag)\n",
    "    else:\n",
    "        pass\n",
    "print(operation(str(input('действие: ')), input('слагаемые: ').split()))"
   ]
  },
  {
   "cell_type": "code",
   "execution_count": null,
   "id": "e7d80109",
   "metadata": {},
   "outputs": [],
   "source": [
    "# 4\n",
    "import sys\n",
    "\n",
    "import words2numsrus\n",
    "\n",
    "\n",
    "def calculate(input_file, output_file):\n",
    "    with open(input_file, 'r', encoding='utf-8') as f:  # берем из файла текст\n",
    "        content = f.read()\n",
    "    extractor = words2numsrus.NumberExtractor()\n",
    "    converted_content = extractor.replace_groups(content)  # uспользуем библиотеку преобразовываем числа\n",
    "    words = converted_content.split()  # преобразуем слова в цифры при этом никуда не заисываем их\n",
    "    summ = int(words[0])  # первое число в примере\n",
    "    for i in range(len(words) - 1):\n",
    "        if words[i] == '+' or words[i].lower() == \"плюс\":\n",
    "            summ += int(words[i + 1])\n",
    "        elif words[i] == '-' or words[i].lower() == 'минус':  # проверка на минус\n",
    "            summ -= int(words[i + 1])\n",
    "    with open(output_file, 'w', encoding='utf-8') as f:  # запись 8 фaйл\n",
    "        f.write(str(summ))\n",
    "\n",
    "\n",
    "def convert_to_numbers(input_file, output_file):\n",
    "    with open(input_file, 'r', encoding='utf-8') as f:  # берем из файла текст\n",
    "        content = f.read()\n",
    "    extractor = words2numsrus.NumberExtractor()\n",
    "    converted_content = extractor.replace_groups(content)  # используем библиотеку преобразобываем числа\n",
    "    with open(output_file, 'w', encoding=\"utf-8\") as f:  # запись в файл\n",
    "        f.write(str(converted_content))\n",
    "\n",
    "\n",
    "if __name__ == \"__main__\":\n",
    "    if len(sys.argv) < 3:\n",
    "        print(\"Неверный ввод\")\n",
    "        sys.exit(1)\n",
    "    input_file = sys.argv[2]\n",
    "    output_file = sys.argy[3] if len(sys.argv) - - 4 else sys.argy[\n",
    "        2]  # если не указан выходной файл делаем входной выходным\n",
    "    if sys.argv[1] == 'to_numbers':\n",
    "        convert_to_numbers(input_file, output_file)\n",
    "    else:\n",
    "        calculate(input_file, output_file)\n",
    "# python calculate.py calculate file_4_zadanie_aisd.txt"
   ]
  }
 ],
 "metadata": {
  "kernelspec": {
   "display_name": "Python 3 (ipykernel)",
   "language": "python",
   "name": "python3"
  },
  "language_info": {
   "codemirror_mode": {
    "name": "ipython",
    "version": 3
   },
   "file_extension": ".py",
   "mimetype": "text/x-python",
   "name": "python",
   "nbconvert_exporter": "python",
   "pygments_lexer": "ipython3",
   "version": "3.11.5"
  }
 },
 "nbformat": 4,
 "nbformat_minor": 5
}
