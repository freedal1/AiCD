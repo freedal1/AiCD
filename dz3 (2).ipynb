{
 "cells": [
  {
   "cell_type": "code",
   "execution_count": 1,
   "id": "c8d85303",
   "metadata": {},
   "outputs": [
    {
     "name": "stdout",
     "output_type": "stream",
     "text": [
      "Длина массива: 3\n",
      "Элемент с индексом 1: 10\n",
      "Элемент с индексом 1 после изменения: 20\n",
      "Массив после удаления элемента с индексом 1: [20, 15]\n"
     ]
    }
   ],
   "source": [
    "# 1\n",
    "dynamic_array = []\n",
    "\n",
    "def append_element(element):\n",
    "    dynamic_array.append(element)\n",
    "\n",
    "def get_element(index):\n",
    "    if 0 <= index < len(dynamic_array):\n",
    "        return dynamic_array[index]\n",
    "    else:\n",
    "        return None\n",
    "\n",
    "def set_element(index, value):\n",
    "    if 0 <= index < len(dynamic_array):\n",
    "        dynamic_array[index] = value\n",
    "\n",
    "def array_length():\n",
    "    return len(dynamic_array)\n",
    "\n",
    "def delete_element(index):\n",
    "    if 0 <= index < len(dynamic_array):\n",
    "        del dynamic_array[index]\n",
    "# Пример использования операций с динамическим массивом\n",
    "append_element(5)\n",
    "append_element(10)\n",
    "append_element(15)\n",
    "\n",
    "print(\"Длина массива:\", array_length())\n",
    "print(\"Элемент с индексом 1:\", get_element(1))\n",
    "\n",
    "set_element(1, 20)\n",
    "print(\"Элемент с индексом 1 после изменения:\", get_element(1))\n",
    "\n",
    "delete_element(0)\n",
    "print(\"Массив после удаления элемента с индексом 1:\", dynamic_array)"
   ]
  },
  {
   "cell_type": "code",
   "execution_count": 3,
   "id": "00785484",
   "metadata": {},
   "outputs": [
    {
     "name": "stdout",
     "output_type": "stream",
     "text": [
      "3\n",
      "7\n",
      "2\n",
      "6\n",
      "1\n",
      "5\n",
      "4\n"
     ]
    }
   ],
   "source": [
    "# 2\n",
    "from collections import deque\n",
    "\n",
    "def f(queue1, queue2):\n",
    "    while queue1 or queue2:  # Пока одна из очередей не пуста\n",
    "        if queue1:\n",
    "            yield queue1.pop()\n",
    "        if queue2:\n",
    "            yield queue2.pop()\n",
    "\n",
    "# Пример использования генератора\n",
    "queue1 = deque([1, 2, 3])\n",
    "queue2 = deque([4, 5, 6, 7])\n",
    "\n",
    "gen = f(queue1, queue2)\n",
    "\n",
    "for i in gen:\n",
    "    print(i)"
   ]
  },
  {
   "cell_type": "code",
   "execution_count": 23,
   "id": "6386e6db",
   "metadata": {},
   "outputs": [
    {
     "name": "stdout",
     "output_type": "stream",
     "text": [
      "Добавлено в очередь: 1\n",
      "Добавлено в очередь: 2\n",
      "Добавлено в очередь: 3\n",
      "Добавлено в очередь: 4\n",
      "Добавлено в очередь: 5\n",
      "Генератор закончил работу.\n",
      "Очередь после добавления:\n",
      "deque([5, 4, 3, 2, 1])\n"
     ]
    }
   ],
   "source": [
    "# 3a\n",
    "from collections import deque\n",
    "\n",
    "class Pump:\n",
    "    def __init__(self, queue, generator):\n",
    "        self.queue = queue\n",
    "        self.generator = generator\n",
    "\n",
    "    def action(self):\n",
    "        try:\n",
    "            value = next(self.generator)\n",
    "            self.queue.appendleft(value)\n",
    "            print(f\"Добавлено в очередь: {value}\")\n",
    "        except StopIteration:\n",
    "            print(\"Генератор закончил работу.\")\n",
    "\n",
    "# Пример использования класса Pump\n",
    "gen = (x for x in range(1, 6))  # Генератор для примера\n",
    "\n",
    "queue = deque()\n",
    "pump = Pump(queue, gen)\n",
    "\n",
    "for _ in range(6):  # Вызываем action 6 раз, так как генератор имеет 5 элементов\n",
    "    pump.action()\n",
    "\n",
    "print(\"Очередь после добавления:\")\n",
    "print(queue)"
   ]
  },
  {
   "cell_type": "code",
   "execution_count": 2,
   "id": "0f4549f3",
   "metadata": {},
   "outputs": [
    {
     "name": "stdout",
     "output_type": "stream",
     "text": [
      "Метод action() класса MyClass вызван.\n",
      "Метод action() класса MyClass вызван.\n",
      "Метод action() класса MyClass вызван.\n",
      "Метод action() класса MyClass вызван.\n"
     ]
    }
   ],
   "source": [
    "# 3b\n",
    "class MultiAction:\n",
    "    def __init__(self, some_class, n):\n",
    "        self.some_class = some_class\n",
    "        self.n = n\n",
    "\n",
    "    def action(self):\n",
    "        for _ in range(self.n):\n",
    "            self.some_class.action()\n",
    "\n",
    "# Пример использования класса MultiAction\n",
    "class MyClass:\n",
    "    def action(self):\n",
    "        print(\"Метод action() класса MyClass вызван.\")\n",
    "\n",
    "multi_action = MultiAction(MyClass(), 4)  # Создание экземпляра MultiAction, вызывающего action() MyClass 3 раза\n",
    "multi_action.action()  # Вызов метода action() в MultiAction, который вызовет метод action() MyClass заданное количество раз"
   ]
  },
  {
   "cell_type": "code",
   "execution_count": 5,
   "id": "f77c4c6e",
   "metadata": {},
   "outputs": [
    {
     "name": "stdout",
     "output_type": "stream",
     "text": [
      "Добавлено в очередь 1: 1\n",
      "Добавлено в очередь 2: 2\n",
      "Добавлено в очередь 3: 3\n",
      "Добавлено в очередь 1: 4\n",
      "Добавлено в очередь 2: 5\n",
      "Генератор закончил работу.\n",
      "Состояние очередей после добавления:\n",
      "Очередь 1: deque([4, 1])\n",
      "Очередь 2: deque([5, 2])\n",
      "Очередь 3: deque([3])\n"
     ]
    }
   ],
   "source": [
    "# 3c\n",
    "from collections import deque\n",
    "\n",
    "class MultiPump:\n",
    "    def __init__(self, queues, generator):\n",
    "        self.queues = queues\n",
    "        self.generator = generator\n",
    "        self.current_queue_idx = 0\n",
    "\n",
    "    def action(self):\n",
    "        try:\n",
    "            value = next(self.generator)\n",
    "            current_queue = self.queues[self.current_queue_idx]\n",
    "            current_queue.appendleft(value)\n",
    "            print(f\"Добавлено в очередь {self.current_queue_idx + 1}: {value}\")\n",
    "\n",
    "            self.current_queue_idx = (self.current_queue_idx + 1) % len(self.queues)\n",
    "        except StopIteration:\n",
    "            print(\"Генератор закончил работу.\")\n",
    "\n",
    "# Пример использования класса MultiPump\n",
    "gen = (x for x in range(1, 6))  # Генератор для примера\n",
    "queues = [deque(), deque(), deque()]  # Три очереди\n",
    "\n",
    "multi_pump = MultiPump(queues, gen)\n",
    "\n",
    "for _ in range(6):  # Вызываем action 6 раз, так как генератор имеет 5 элементов\n",
    "    multi_pump.action()\n",
    "\n",
    "print(\"Состояние очередей после добавления:\")\n",
    "for idx, queue in enumerate(queues):\n",
    "    print(f\"Очередь {idx + 1}: {queue}\")\n"
   ]
  },
  {
   "cell_type": "code",
   "execution_count": 8,
   "id": "eb58ed74",
   "metadata": {},
   "outputs": [
    {
     "name": "stdout",
     "output_type": "stream",
     "text": [
      "deque(['Сообщение B', 'Сообщение B', 'Сообщение A', 'Сообщение A', 'Сообщение C', 'Сообщение A', 'Сообщение C', 'Сообщение C', 'Сообщение B', 'Сообщение A', 'Сообщение B', 'Сообщение A', 'Сообщение C', 'Сообщение C', 'Сообщение A'])\n"
     ]
    }
   ],
   "source": [
    "# 4\n",
    "from collections import deque\n",
    "from random import choice\n",
    "\n",
    "# Генератор случайных сообщений\n",
    "def message_generator():\n",
    "    messages = [\"Сообщение A\", \"Сообщение B\", \"Сообщение C\"]\n",
    "    while True:\n",
    "        yield choice(messages)\n",
    "\n",
    "# Класс для загрузки сообщений из генератора в очередь\n",
    "class Pump:\n",
    "    def __init__(self, queue, generator):\n",
    "        self.queue = queue\n",
    "        self.generator = generator\n",
    "\n",
    "    def action(self):\n",
    "        self.queue.appendleft(next(self.generator))\n",
    "\n",
    "# Создаем генераторы сообщений\n",
    "gen1 = message_generator()\n",
    "gen2 = message_generator()\n",
    "gen3 = message_generator()\n",
    "\n",
    "# Создаем очереди\n",
    "queue1 = deque()\n",
    "queue2 = deque()\n",
    "queue3 = deque()\n",
    "combined_queue = deque()\n",
    "\n",
    "# Создаем объекты Pump для каждой очереди\n",
    "pump1 = Pump(queue1, gen1)\n",
    "pump2 = Pump(queue2, gen2)\n",
    "pump3 = Pump(queue3, gen3)\n",
    "\n",
    "# Загружаем сообщения в очереди\n",
    "num_messages = 5\n",
    "for _ in range(num_messages):\n",
    "    pump1.action()\n",
    "    pump2.action()\n",
    "    pump3.action()\n",
    "\n",
    "# Собираем сообщения из трех очередей в одну\n",
    "combined_queue += queue1\n",
    "combined_queue += queue2\n",
    "combined_queue += queue3\n",
    "\n",
    "# Выводим сообщения из объединенной очереди\n",
    "print(combined_queue)\n"
   ]
  }
 ],
 "metadata": {
  "kernelspec": {
   "display_name": "Python 3 (ipykernel)",
   "language": "python",
   "name": "python3"
  },
  "language_info": {
   "codemirror_mode": {
    "name": "ipython",
    "version": 3
   },
   "file_extension": ".py",
   "mimetype": "text/x-python",
   "name": "python",
   "nbconvert_exporter": "python",
   "pygments_lexer": "ipython3",
   "version": "3.11.5"
  }
 },
 "nbformat": 4,
 "nbformat_minor": 5
}
